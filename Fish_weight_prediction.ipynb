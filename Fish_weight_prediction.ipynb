{
 "cells": [
  {
   "cell_type": "code",
   "execution_count": 8,
   "id": "00fcbf8f",
   "metadata": {},
   "outputs": [],
   "source": [
    "import numpy as np\n",
    "import pandas as pd\n",
    "import matplotlib.pyplot as plt\n",
    "import seaborn as sns\n",
    "from sklearn.model_selection import train_test_split\n",
    "from sklearn.linear_model import LinearRegression\n",
    "from sklearn.metrics import mean_absolute_error,mean_squared_error,r2_score\n",
    "from statsmodels.stats.outliers_influence import variance_inflation_factor\n"
   ]
  },
  {
   "cell_type": "markdown",
   "id": "4d9e15a6",
   "metadata": {},
   "source": [
    "#### 1. Problem Statement"
   ]
  },
  {
   "cell_type": "raw",
   "id": "d805e444",
   "metadata": {},
   "source": [
    "This dataset is a record of 7 common different fish species in fish market sales. With this dataset, a predictive model can be performed using machine friendly data and estimate the weight of fish can be predicted."
   ]
  },
  {
   "cell_type": "markdown",
   "id": "941600ff",
   "metadata": {},
   "source": [
    "##### 2. Data Gathering"
   ]
  },
  {
   "cell_type": "code",
   "execution_count": 17,
   "id": "dde5a334",
   "metadata": {},
   "outputs": [
    {
     "data": {
      "text/html": [
       "<div>\n",
       "<style scoped>\n",
       "    .dataframe tbody tr th:only-of-type {\n",
       "        vertical-align: middle;\n",
       "    }\n",
       "\n",
       "    .dataframe tbody tr th {\n",
       "        vertical-align: top;\n",
       "    }\n",
       "\n",
       "    .dataframe thead th {\n",
       "        text-align: right;\n",
       "    }\n",
       "</style>\n",
       "<table border=\"1\" class=\"dataframe\">\n",
       "  <thead>\n",
       "    <tr style=\"text-align: right;\">\n",
       "      <th></th>\n",
       "      <th>Species</th>\n",
       "      <th>Weight</th>\n",
       "      <th>Length1</th>\n",
       "      <th>Length2</th>\n",
       "      <th>Length3</th>\n",
       "      <th>Height</th>\n",
       "      <th>Width</th>\n",
       "    </tr>\n",
       "  </thead>\n",
       "  <tbody>\n",
       "    <tr>\n",
       "      <th>0</th>\n",
       "      <td>Bream</td>\n",
       "      <td>242.0</td>\n",
       "      <td>23.2</td>\n",
       "      <td>25.4</td>\n",
       "      <td>30.0</td>\n",
       "      <td>11.5200</td>\n",
       "      <td>4.0200</td>\n",
       "    </tr>\n",
       "    <tr>\n",
       "      <th>1</th>\n",
       "      <td>Bream</td>\n",
       "      <td>290.0</td>\n",
       "      <td>24.0</td>\n",
       "      <td>26.3</td>\n",
       "      <td>31.2</td>\n",
       "      <td>12.4800</td>\n",
       "      <td>4.3056</td>\n",
       "    </tr>\n",
       "    <tr>\n",
       "      <th>2</th>\n",
       "      <td>Bream</td>\n",
       "      <td>340.0</td>\n",
       "      <td>23.9</td>\n",
       "      <td>26.5</td>\n",
       "      <td>31.1</td>\n",
       "      <td>12.3778</td>\n",
       "      <td>4.6961</td>\n",
       "    </tr>\n",
       "    <tr>\n",
       "      <th>3</th>\n",
       "      <td>Bream</td>\n",
       "      <td>363.0</td>\n",
       "      <td>26.3</td>\n",
       "      <td>29.0</td>\n",
       "      <td>33.5</td>\n",
       "      <td>12.7300</td>\n",
       "      <td>4.4555</td>\n",
       "    </tr>\n",
       "    <tr>\n",
       "      <th>4</th>\n",
       "      <td>Bream</td>\n",
       "      <td>430.0</td>\n",
       "      <td>26.5</td>\n",
       "      <td>29.0</td>\n",
       "      <td>34.0</td>\n",
       "      <td>12.4440</td>\n",
       "      <td>5.1340</td>\n",
       "    </tr>\n",
       "    <tr>\n",
       "      <th>...</th>\n",
       "      <td>...</td>\n",
       "      <td>...</td>\n",
       "      <td>...</td>\n",
       "      <td>...</td>\n",
       "      <td>...</td>\n",
       "      <td>...</td>\n",
       "      <td>...</td>\n",
       "    </tr>\n",
       "    <tr>\n",
       "      <th>154</th>\n",
       "      <td>Smelt</td>\n",
       "      <td>12.2</td>\n",
       "      <td>11.5</td>\n",
       "      <td>12.2</td>\n",
       "      <td>13.4</td>\n",
       "      <td>2.0904</td>\n",
       "      <td>1.3936</td>\n",
       "    </tr>\n",
       "    <tr>\n",
       "      <th>155</th>\n",
       "      <td>Smelt</td>\n",
       "      <td>13.4</td>\n",
       "      <td>11.7</td>\n",
       "      <td>12.4</td>\n",
       "      <td>13.5</td>\n",
       "      <td>2.4300</td>\n",
       "      <td>1.2690</td>\n",
       "    </tr>\n",
       "    <tr>\n",
       "      <th>156</th>\n",
       "      <td>Smelt</td>\n",
       "      <td>12.2</td>\n",
       "      <td>12.1</td>\n",
       "      <td>13.0</td>\n",
       "      <td>13.8</td>\n",
       "      <td>2.2770</td>\n",
       "      <td>1.2558</td>\n",
       "    </tr>\n",
       "    <tr>\n",
       "      <th>157</th>\n",
       "      <td>Smelt</td>\n",
       "      <td>19.7</td>\n",
       "      <td>13.2</td>\n",
       "      <td>14.3</td>\n",
       "      <td>15.2</td>\n",
       "      <td>2.8728</td>\n",
       "      <td>2.0672</td>\n",
       "    </tr>\n",
       "    <tr>\n",
       "      <th>158</th>\n",
       "      <td>Smelt</td>\n",
       "      <td>19.9</td>\n",
       "      <td>13.8</td>\n",
       "      <td>15.0</td>\n",
       "      <td>16.2</td>\n",
       "      <td>2.9322</td>\n",
       "      <td>1.8792</td>\n",
       "    </tr>\n",
       "  </tbody>\n",
       "</table>\n",
       "<p>159 rows × 7 columns</p>\n",
       "</div>"
      ],
      "text/plain": [
       "    Species  Weight  Length1  Length2  Length3   Height   Width\n",
       "0     Bream   242.0     23.2     25.4     30.0  11.5200  4.0200\n",
       "1     Bream   290.0     24.0     26.3     31.2  12.4800  4.3056\n",
       "2     Bream   340.0     23.9     26.5     31.1  12.3778  4.6961\n",
       "3     Bream   363.0     26.3     29.0     33.5  12.7300  4.4555\n",
       "4     Bream   430.0     26.5     29.0     34.0  12.4440  5.1340\n",
       "..      ...     ...      ...      ...      ...      ...     ...\n",
       "154   Smelt    12.2     11.5     12.2     13.4   2.0904  1.3936\n",
       "155   Smelt    13.4     11.7     12.4     13.5   2.4300  1.2690\n",
       "156   Smelt    12.2     12.1     13.0     13.8   2.2770  1.2558\n",
       "157   Smelt    19.7     13.2     14.3     15.2   2.8728  2.0672\n",
       "158   Smelt    19.9     13.8     15.0     16.2   2.9322  1.8792\n",
       "\n",
       "[159 rows x 7 columns]"
      ]
     },
     "execution_count": 17,
     "metadata": {},
     "output_type": "execute_result"
    }
   ],
   "source": [
    "df=pd.read_csv('fish.csv')\n",
    "df"
   ]
  },
  {
   "cell_type": "code",
   "execution_count": 10,
   "id": "a6825044",
   "metadata": {},
   "outputs": [
    {
     "name": "stdout",
     "output_type": "stream",
     "text": [
      "<class 'pandas.core.frame.DataFrame'>\n",
      "RangeIndex: 159 entries, 0 to 158\n",
      "Data columns (total 7 columns):\n",
      " #   Column   Non-Null Count  Dtype  \n",
      "---  ------   --------------  -----  \n",
      " 0   Species  159 non-null    object \n",
      " 1   Weight   159 non-null    float64\n",
      " 2   Length1  159 non-null    float64\n",
      " 3   Length2  159 non-null    float64\n",
      " 4   Length3  159 non-null    float64\n",
      " 5   Height   159 non-null    float64\n",
      " 6   Width    159 non-null    float64\n",
      "dtypes: float64(6), object(1)\n",
      "memory usage: 8.8+ KB\n"
     ]
    }
   ],
   "source": [
    "df.info()"
   ]
  },
  {
   "cell_type": "markdown",
   "id": "3e3d752e",
   "metadata": {},
   "source": [
    "##### 3. EDA"
   ]
  },
  {
   "cell_type": "code",
   "execution_count": 11,
   "id": "f61bae8e",
   "metadata": {},
   "outputs": [
    {
     "data": {
      "text/plain": [
       "Species\n",
       "Perch        56\n",
       "Bream        35\n",
       "Roach        20\n",
       "Pike         17\n",
       "Smelt        14\n",
       "Parkki       11\n",
       "Whitefish     6\n",
       "Name: count, dtype: int64"
      ]
     },
     "execution_count": 11,
     "metadata": {},
     "output_type": "execute_result"
    }
   ],
   "source": [
    "df['Species'].value_counts()"
   ]
  },
  {
   "cell_type": "code",
   "execution_count": 18,
   "id": "06ab613e",
   "metadata": {},
   "outputs": [],
   "source": [
    "df=pd.get_dummies(df,columns=['Species'],dtype='int')"
   ]
  },
  {
   "cell_type": "code",
   "execution_count": 19,
   "id": "3cd6eb2b",
   "metadata": {},
   "outputs": [
    {
     "data": {
      "text/html": [
       "<div>\n",
       "<style scoped>\n",
       "    .dataframe tbody tr th:only-of-type {\n",
       "        vertical-align: middle;\n",
       "    }\n",
       "\n",
       "    .dataframe tbody tr th {\n",
       "        vertical-align: top;\n",
       "    }\n",
       "\n",
       "    .dataframe thead th {\n",
       "        text-align: right;\n",
       "    }\n",
       "</style>\n",
       "<table border=\"1\" class=\"dataframe\">\n",
       "  <thead>\n",
       "    <tr style=\"text-align: right;\">\n",
       "      <th></th>\n",
       "      <th>Weight</th>\n",
       "      <th>Length1</th>\n",
       "      <th>Length2</th>\n",
       "      <th>Length3</th>\n",
       "      <th>Height</th>\n",
       "      <th>Width</th>\n",
       "      <th>Species_Bream</th>\n",
       "      <th>Species_Parkki</th>\n",
       "      <th>Species_Perch</th>\n",
       "      <th>Species_Pike</th>\n",
       "      <th>Species_Roach</th>\n",
       "      <th>Species_Smelt</th>\n",
       "      <th>Species_Whitefish</th>\n",
       "    </tr>\n",
       "  </thead>\n",
       "  <tbody>\n",
       "    <tr>\n",
       "      <th>0</th>\n",
       "      <td>242.0</td>\n",
       "      <td>23.2</td>\n",
       "      <td>25.4</td>\n",
       "      <td>30.0</td>\n",
       "      <td>11.5200</td>\n",
       "      <td>4.0200</td>\n",
       "      <td>1</td>\n",
       "      <td>0</td>\n",
       "      <td>0</td>\n",
       "      <td>0</td>\n",
       "      <td>0</td>\n",
       "      <td>0</td>\n",
       "      <td>0</td>\n",
       "    </tr>\n",
       "    <tr>\n",
       "      <th>1</th>\n",
       "      <td>290.0</td>\n",
       "      <td>24.0</td>\n",
       "      <td>26.3</td>\n",
       "      <td>31.2</td>\n",
       "      <td>12.4800</td>\n",
       "      <td>4.3056</td>\n",
       "      <td>1</td>\n",
       "      <td>0</td>\n",
       "      <td>0</td>\n",
       "      <td>0</td>\n",
       "      <td>0</td>\n",
       "      <td>0</td>\n",
       "      <td>0</td>\n",
       "    </tr>\n",
       "    <tr>\n",
       "      <th>2</th>\n",
       "      <td>340.0</td>\n",
       "      <td>23.9</td>\n",
       "      <td>26.5</td>\n",
       "      <td>31.1</td>\n",
       "      <td>12.3778</td>\n",
       "      <td>4.6961</td>\n",
       "      <td>1</td>\n",
       "      <td>0</td>\n",
       "      <td>0</td>\n",
       "      <td>0</td>\n",
       "      <td>0</td>\n",
       "      <td>0</td>\n",
       "      <td>0</td>\n",
       "    </tr>\n",
       "    <tr>\n",
       "      <th>3</th>\n",
       "      <td>363.0</td>\n",
       "      <td>26.3</td>\n",
       "      <td>29.0</td>\n",
       "      <td>33.5</td>\n",
       "      <td>12.7300</td>\n",
       "      <td>4.4555</td>\n",
       "      <td>1</td>\n",
       "      <td>0</td>\n",
       "      <td>0</td>\n",
       "      <td>0</td>\n",
       "      <td>0</td>\n",
       "      <td>0</td>\n",
       "      <td>0</td>\n",
       "    </tr>\n",
       "    <tr>\n",
       "      <th>4</th>\n",
       "      <td>430.0</td>\n",
       "      <td>26.5</td>\n",
       "      <td>29.0</td>\n",
       "      <td>34.0</td>\n",
       "      <td>12.4440</td>\n",
       "      <td>5.1340</td>\n",
       "      <td>1</td>\n",
       "      <td>0</td>\n",
       "      <td>0</td>\n",
       "      <td>0</td>\n",
       "      <td>0</td>\n",
       "      <td>0</td>\n",
       "      <td>0</td>\n",
       "    </tr>\n",
       "    <tr>\n",
       "      <th>...</th>\n",
       "      <td>...</td>\n",
       "      <td>...</td>\n",
       "      <td>...</td>\n",
       "      <td>...</td>\n",
       "      <td>...</td>\n",
       "      <td>...</td>\n",
       "      <td>...</td>\n",
       "      <td>...</td>\n",
       "      <td>...</td>\n",
       "      <td>...</td>\n",
       "      <td>...</td>\n",
       "      <td>...</td>\n",
       "      <td>...</td>\n",
       "    </tr>\n",
       "    <tr>\n",
       "      <th>154</th>\n",
       "      <td>12.2</td>\n",
       "      <td>11.5</td>\n",
       "      <td>12.2</td>\n",
       "      <td>13.4</td>\n",
       "      <td>2.0904</td>\n",
       "      <td>1.3936</td>\n",
       "      <td>0</td>\n",
       "      <td>0</td>\n",
       "      <td>0</td>\n",
       "      <td>0</td>\n",
       "      <td>0</td>\n",
       "      <td>1</td>\n",
       "      <td>0</td>\n",
       "    </tr>\n",
       "    <tr>\n",
       "      <th>155</th>\n",
       "      <td>13.4</td>\n",
       "      <td>11.7</td>\n",
       "      <td>12.4</td>\n",
       "      <td>13.5</td>\n",
       "      <td>2.4300</td>\n",
       "      <td>1.2690</td>\n",
       "      <td>0</td>\n",
       "      <td>0</td>\n",
       "      <td>0</td>\n",
       "      <td>0</td>\n",
       "      <td>0</td>\n",
       "      <td>1</td>\n",
       "      <td>0</td>\n",
       "    </tr>\n",
       "    <tr>\n",
       "      <th>156</th>\n",
       "      <td>12.2</td>\n",
       "      <td>12.1</td>\n",
       "      <td>13.0</td>\n",
       "      <td>13.8</td>\n",
       "      <td>2.2770</td>\n",
       "      <td>1.2558</td>\n",
       "      <td>0</td>\n",
       "      <td>0</td>\n",
       "      <td>0</td>\n",
       "      <td>0</td>\n",
       "      <td>0</td>\n",
       "      <td>1</td>\n",
       "      <td>0</td>\n",
       "    </tr>\n",
       "    <tr>\n",
       "      <th>157</th>\n",
       "      <td>19.7</td>\n",
       "      <td>13.2</td>\n",
       "      <td>14.3</td>\n",
       "      <td>15.2</td>\n",
       "      <td>2.8728</td>\n",
       "      <td>2.0672</td>\n",
       "      <td>0</td>\n",
       "      <td>0</td>\n",
       "      <td>0</td>\n",
       "      <td>0</td>\n",
       "      <td>0</td>\n",
       "      <td>1</td>\n",
       "      <td>0</td>\n",
       "    </tr>\n",
       "    <tr>\n",
       "      <th>158</th>\n",
       "      <td>19.9</td>\n",
       "      <td>13.8</td>\n",
       "      <td>15.0</td>\n",
       "      <td>16.2</td>\n",
       "      <td>2.9322</td>\n",
       "      <td>1.8792</td>\n",
       "      <td>0</td>\n",
       "      <td>0</td>\n",
       "      <td>0</td>\n",
       "      <td>0</td>\n",
       "      <td>0</td>\n",
       "      <td>1</td>\n",
       "      <td>0</td>\n",
       "    </tr>\n",
       "  </tbody>\n",
       "</table>\n",
       "<p>159 rows × 13 columns</p>\n",
       "</div>"
      ],
      "text/plain": [
       "     Weight  Length1  Length2  Length3   Height   Width  Species_Bream   \n",
       "0     242.0     23.2     25.4     30.0  11.5200  4.0200              1  \\\n",
       "1     290.0     24.0     26.3     31.2  12.4800  4.3056              1   \n",
       "2     340.0     23.9     26.5     31.1  12.3778  4.6961              1   \n",
       "3     363.0     26.3     29.0     33.5  12.7300  4.4555              1   \n",
       "4     430.0     26.5     29.0     34.0  12.4440  5.1340              1   \n",
       "..      ...      ...      ...      ...      ...     ...            ...   \n",
       "154    12.2     11.5     12.2     13.4   2.0904  1.3936              0   \n",
       "155    13.4     11.7     12.4     13.5   2.4300  1.2690              0   \n",
       "156    12.2     12.1     13.0     13.8   2.2770  1.2558              0   \n",
       "157    19.7     13.2     14.3     15.2   2.8728  2.0672              0   \n",
       "158    19.9     13.8     15.0     16.2   2.9322  1.8792              0   \n",
       "\n",
       "     Species_Parkki  Species_Perch  Species_Pike  Species_Roach   \n",
       "0                 0              0             0              0  \\\n",
       "1                 0              0             0              0   \n",
       "2                 0              0             0              0   \n",
       "3                 0              0             0              0   \n",
       "4                 0              0             0              0   \n",
       "..              ...            ...           ...            ...   \n",
       "154               0              0             0              0   \n",
       "155               0              0             0              0   \n",
       "156               0              0             0              0   \n",
       "157               0              0             0              0   \n",
       "158               0              0             0              0   \n",
       "\n",
       "     Species_Smelt  Species_Whitefish  \n",
       "0                0                  0  \n",
       "1                0                  0  \n",
       "2                0                  0  \n",
       "3                0                  0  \n",
       "4                0                  0  \n",
       "..             ...                ...  \n",
       "154              1                  0  \n",
       "155              1                  0  \n",
       "156              1                  0  \n",
       "157              1                  0  \n",
       "158              1                  0  \n",
       "\n",
       "[159 rows x 13 columns]"
      ]
     },
     "execution_count": 19,
     "metadata": {},
     "output_type": "execute_result"
    }
   ],
   "source": [
    "df"
   ]
  },
  {
   "cell_type": "markdown",
   "id": "5c186d2d",
   "metadata": {},
   "source": [
    "##### 4. Feature Engineering"
   ]
  },
  {
   "cell_type": "markdown",
   "id": "3865ae32",
   "metadata": {},
   "source": [
    "##### 5. Feature Selsection"
   ]
  },
  {
   "cell_type": "code",
   "execution_count": 24,
   "id": "e9ea9da7",
   "metadata": {},
   "outputs": [
    {
     "data": {
      "text/plain": [
       "Weight               1.000000\n",
       "Length1              0.915712\n",
       "Length2              0.918618\n",
       "Length3              0.923044\n",
       "Height               0.724345\n",
       "Width                0.886507\n",
       "Species_Bream        0.326795\n",
       "Species_Parkki      -0.186034\n",
       "Species_Perch       -0.033240\n",
       "Species_Pike         0.310641\n",
       "Species_Roach       -0.261784\n",
       "Species_Smelt       -0.337109\n",
       "Species_Whitefish    0.073625\n",
       "Name: Weight, dtype: float64"
      ]
     },
     "execution_count": 24,
     "metadata": {},
     "output_type": "execute_result"
    }
   ],
   "source": [
    "df.corr().iloc[:,0]"
   ]
  },
  {
   "cell_type": "code",
   "execution_count": 26,
   "id": "308d84f7",
   "metadata": {},
   "outputs": [
    {
     "data": {
      "text/plain": [
       "<Axes: >"
      ]
     },
     "execution_count": 26,
     "metadata": {},
     "output_type": "execute_result"
    },
    {
     "data": {
      "image/png": "[encoded data removed]",
      "text/plain": [
       "<Figure size 640x480 with 2 Axes>"
      ]
     },
     "metadata": {},
     "output_type": "display_data"
    }
   ],
   "source": [
    "sns.heatmap(df.corr(),annot=True)"
   ]
  },
  {
   "cell_type": "markdown",
   "id": "f9325ed1",
   "metadata": {},
   "source": [
    "##### VIF"
   ]
  },
  {
   "cell_type": "code",
   "execution_count": 29,
   "id": "bed02fab",
   "metadata": {},
   "outputs": [
    {
     "data": {
      "text/html": [
       "<div>\n",
       "<style scoped>\n",
       "    .dataframe tbody tr th:only-of-type {\n",
       "        vertical-align: middle;\n",
       "    }\n",
       "\n",
       "    .dataframe tbody tr th {\n",
       "        vertical-align: top;\n",
       "    }\n",
       "\n",
       "    .dataframe thead th {\n",
       "        text-align: right;\n",
       "    }\n",
       "</style>\n",
       "<table border=\"1\" class=\"dataframe\">\n",
       "  <thead>\n",
       "    <tr style=\"text-align: right;\">\n",
       "      <th></th>\n",
       "      <th>Length1</th>\n",
       "      <th>Length2</th>\n",
       "      <th>Length3</th>\n",
       "      <th>Height</th>\n",
       "      <th>Width</th>\n",
       "      <th>Species_Bream</th>\n",
       "      <th>Species_Parkki</th>\n",
       "      <th>Species_Perch</th>\n",
       "      <th>Species_Pike</th>\n",
       "      <th>Species_Roach</th>\n",
       "      <th>Species_Smelt</th>\n",
       "      <th>Species_Whitefish</th>\n",
       "    </tr>\n",
       "  </thead>\n",
       "  <tbody>\n",
       "    <tr>\n",
       "      <th>0</th>\n",
       "      <td>23.2</td>\n",
       "      <td>25.4</td>\n",
       "      <td>30.0</td>\n",
       "      <td>11.5200</td>\n",
       "      <td>4.0200</td>\n",
       "      <td>1</td>\n",
       "      <td>0</td>\n",
       "      <td>0</td>\n",
       "      <td>0</td>\n",
       "      <td>0</td>\n",
       "      <td>0</td>\n",
       "      <td>0</td>\n",
       "    </tr>\n",
       "    <tr>\n",
       "      <th>1</th>\n",
       "      <td>24.0</td>\n",
       "      <td>26.3</td>\n",
       "      <td>31.2</td>\n",
       "      <td>12.4800</td>\n",
       "      <td>4.3056</td>\n",
       "      <td>1</td>\n",
       "      <td>0</td>\n",
       "      <td>0</td>\n",
       "      <td>0</td>\n",
       "      <td>0</td>\n",
       "      <td>0</td>\n",
       "      <td>0</td>\n",
       "    </tr>\n",
       "    <tr>\n",
       "      <th>2</th>\n",
       "      <td>23.9</td>\n",
       "      <td>26.5</td>\n",
       "      <td>31.1</td>\n",
       "      <td>12.3778</td>\n",
       "      <td>4.6961</td>\n",
       "      <td>1</td>\n",
       "      <td>0</td>\n",
       "      <td>0</td>\n",
       "      <td>0</td>\n",
       "      <td>0</td>\n",
       "      <td>0</td>\n",
       "      <td>0</td>\n",
       "    </tr>\n",
       "    <tr>\n",
       "      <th>3</th>\n",
       "      <td>26.3</td>\n",
       "      <td>29.0</td>\n",
       "      <td>33.5</td>\n",
       "      <td>12.7300</td>\n",
       "      <td>4.4555</td>\n",
       "      <td>1</td>\n",
       "      <td>0</td>\n",
       "      <td>0</td>\n",
       "      <td>0</td>\n",
       "      <td>0</td>\n",
       "      <td>0</td>\n",
       "      <td>0</td>\n",
       "    </tr>\n",
       "    <tr>\n",
       "      <th>4</th>\n",
       "      <td>26.5</td>\n",
       "      <td>29.0</td>\n",
       "      <td>34.0</td>\n",
       "      <td>12.4440</td>\n",
       "      <td>5.1340</td>\n",
       "      <td>1</td>\n",
       "      <td>0</td>\n",
       "      <td>0</td>\n",
       "      <td>0</td>\n",
       "      <td>0</td>\n",
       "      <td>0</td>\n",
       "      <td>0</td>\n",
       "    </tr>\n",
       "    <tr>\n",
       "      <th>...</th>\n",
       "      <td>...</td>\n",
       "      <td>...</td>\n",
       "      <td>...</td>\n",
       "      <td>...</td>\n",
       "      <td>...</td>\n",
       "      <td>...</td>\n",
       "      <td>...</td>\n",
       "      <td>...</td>\n",
       "      <td>...</td>\n",
       "      <td>...</td>\n",
       "      <td>...</td>\n",
       "      <td>...</td>\n",
       "    </tr>\n",
       "    <tr>\n",
       "      <th>154</th>\n",
       "      <td>11.5</td>\n",
       "      <td>12.2</td>\n",
       "      <td>13.4</td>\n",
       "      <td>2.0904</td>\n",
       "      <td>1.3936</td>\n",
       "      <td>0</td>\n",
       "      <td>0</td>\n",
       "      <td>0</td>\n",
       "      <td>0</td>\n",
       "      <td>0</td>\n",
       "      <td>1</td>\n",
       "      <td>0</td>\n",
       "    </tr>\n",
       "    <tr>\n",
       "      <th>155</th>\n",
       "      <td>11.7</td>\n",
       "      <td>12.4</td>\n",
       "      <td>13.5</td>\n",
       "      <td>2.4300</td>\n",
       "      <td>1.2690</td>\n",
       "      <td>0</td>\n",
       "      <td>0</td>\n",
       "      <td>0</td>\n",
       "      <td>0</td>\n",
       "      <td>0</td>\n",
       "      <td>1</td>\n",
       "      <td>0</td>\n",
       "    </tr>\n",
       "    <tr>\n",
       "      <th>156</th>\n",
       "      <td>12.1</td>\n",
       "      <td>13.0</td>\n",
       "      <td>13.8</td>\n",
       "      <td>2.2770</td>\n",
       "      <td>1.2558</td>\n",
       "      <td>0</td>\n",
       "      <td>0</td>\n",
       "      <td>0</td>\n",
       "      <td>0</td>\n",
       "      <td>0</td>\n",
       "      <td>1</td>\n",
       "      <td>0</td>\n",
       "    </tr>\n",
       "    <tr>\n",
       "      <th>157</th>\n",
       "      <td>13.2</td>\n",
       "      <td>14.3</td>\n",
       "      <td>15.2</td>\n",
       "      <td>2.8728</td>\n",
       "      <td>2.0672</td>\n",
       "      <td>0</td>\n",
       "      <td>0</td>\n",
       "      <td>0</td>\n",
       "      <td>0</td>\n",
       "      <td>0</td>\n",
       "      <td>1</td>\n",
       "      <td>0</td>\n",
       "    </tr>\n",
       "    <tr>\n",
       "      <th>158</th>\n",
       "      <td>13.8</td>\n",
       "      <td>15.0</td>\n",
       "      <td>16.2</td>\n",
       "      <td>2.9322</td>\n",
       "      <td>1.8792</td>\n",
       "      <td>0</td>\n",
       "      <td>0</td>\n",
       "      <td>0</td>\n",
       "      <td>0</td>\n",
       "      <td>0</td>\n",
       "      <td>1</td>\n",
       "      <td>0</td>\n",
       "    </tr>\n",
       "  </tbody>\n",
       "</table>\n",
       "<p>159 rows × 12 columns</p>\n",
       "</div>"
      ],
      "text/plain": [
       "     Length1  Length2  Length3   Height   Width  Species_Bream   \n",
       "0       23.2     25.4     30.0  11.5200  4.0200              1  \\\n",
       "1       24.0     26.3     31.2  12.4800  4.3056              1   \n",
       "2       23.9     26.5     31.1  12.3778  4.6961              1   \n",
       "3       26.3     29.0     33.5  12.7300  4.4555              1   \n",
       "4       26.5     29.0     34.0  12.4440  5.1340              1   \n",
       "..       ...      ...      ...      ...     ...            ...   \n",
       "154     11.5     12.2     13.4   2.0904  1.3936              0   \n",
       "155     11.7     12.4     13.5   2.4300  1.2690              0   \n",
       "156     12.1     13.0     13.8   2.2770  1.2558              0   \n",
       "157     13.2     14.3     15.2   2.8728  2.0672              0   \n",
       "158     13.8     15.0     16.2   2.9322  1.8792              0   \n",
       "\n",
       "     Species_Parkki  Species_Perch  Species_Pike  Species_Roach   \n",
       "0                 0              0             0              0  \\\n",
       "1                 0              0             0              0   \n",
       "2                 0              0             0              0   \n",
       "3                 0              0             0              0   \n",
       "4                 0              0             0              0   \n",
       "..              ...            ...           ...            ...   \n",
       "154               0              0             0              0   \n",
       "155               0              0             0              0   \n",
       "156               0              0             0              0   \n",
       "157               0              0             0              0   \n",
       "158               0              0             0              0   \n",
       "\n",
       "     Species_Smelt  Species_Whitefish  \n",
       "0                0                  0  \n",
       "1                0                  0  \n",
       "2                0                  0  \n",
       "3                0                  0  \n",
       "4                0                  0  \n",
       "..             ...                ...  \n",
       "154              1                  0  \n",
       "155              1                  0  \n",
       "156              1                  0  \n",
       "157              1                  0  \n",
       "158              1                  0  \n",
       "\n",
       "[159 rows x 12 columns]"
      ]
     },
     "execution_count": 29,
     "metadata": {},
     "output_type": "execute_result"
    }
   ],
   "source": [
    "x=df.drop('Weight',axis=1)\n",
    "x"
   ]
  },
  {
   "cell_type": "code",
   "execution_count": 30,
   "id": "1b3eb326",
   "metadata": {},
   "outputs": [
    {
     "data": {
      "text/plain": [
       "array([[23.2, 25.4, 30. , ...,  0. ,  0. ,  0. ],\n",
       "       [24. , 26.3, 31.2, ...,  0. ,  0. ,  0. ],\n",
       "       [23.9, 26.5, 31.1, ...,  0. ,  0. ,  0. ],\n",
       "       ...,\n",
       "       [12.1, 13. , 13.8, ...,  0. ,  1. ,  0. ],\n",
       "       [13.2, 14.3, 15.2, ...,  0. ,  1. ,  0. ],\n",
       "       [13.8, 15. , 16.2, ...,  0. ,  1. ,  0. ]])"
      ]
     },
     "execution_count": 30,
     "metadata": {},
     "output_type": "execute_result"
    }
   ],
   "source": [
    "x.values"
   ]
  },
  {
   "cell_type": "code",
   "execution_count": 31,
   "id": "46af69e7",
   "metadata": {},
   "outputs": [
    {
     "name": "stdout",
     "output_type": "stream",
     "text": [
      "VIF_List: [2360.4250820913658, 4307.918108946514, 2076.9371503891552, 56.203701550579964, 29.1665054646116, 64.20766253479916, 5.539718159696336, 9.945708676454426, 16.57204402107398, 6.880800028157697, 2.092897755186898, 3.1127373678978114]\n"
     ]
    }
   ],
   "source": [
    "VIF_list=[]\n",
    "for i in range(0,x.shape[1]):\n",
    "    vif=variance_inflation_factor(x,i)\n",
    "    VIF_list.append(vif)\n",
    "print('VIF_List:',VIF_list)\n",
    "    "
   ]
  },
  {
   "cell_type": "code",
   "execution_count": 32,
   "id": "10521e81",
   "metadata": {},
   "outputs": [
    {
     "data": {
      "text/plain": [
       "0      242.0\n",
       "1      290.0\n",
       "2      340.0\n",
       "3      363.0\n",
       "4      430.0\n",
       "       ...  \n",
       "154     12.2\n",
       "155     13.4\n",
       "156     12.2\n",
       "157     19.7\n",
       "158     19.9\n",
       "Name: Weight, Length: 159, dtype: float64"
      ]
     },
     "execution_count": 32,
     "metadata": {},
     "output_type": "execute_result"
    }
   ],
   "source": [
    "y=df['Weight']\n",
    "y"
   ]
  },
  {
   "cell_type": "markdown",
   "id": "59a84e48",
   "metadata": {},
   "source": [
    "##### 6. Model Training"
   ]
  },
  {
   "cell_type": "code",
   "execution_count": 33,
   "id": "994ae7e4",
   "metadata": {},
   "outputs": [],
   "source": [
    "x_train,x_test,y_train,y_test=train_test_split(x,y,test_size=0.2,random_state=10)"
   ]
  },
  {
   "cell_type": "code",
   "execution_count": 34,
   "id": "c55b6b40",
   "metadata": {},
   "outputs": [],
   "source": [
    "lin_reg=LinearRegression()"
   ]
  },
  {
   "cell_type": "code",
   "execution_count": 35,
   "id": "34f24565",
   "metadata": {},
   "outputs": [
    {
     "data": {
      "text/html": [
       "<style>#sk-container-id-1 {color: black;background-color: white;}#sk-container-id-1 pre{padding: 0;}#sk-container-id-1 div.sk-toggleable {background-color: white;}#sk-container-id-1 label.sk-toggleable__label {cursor: pointer;display: block;width: 100%;margin-bottom: 0;padding: 0.3em;box-sizing: border-box;text-align: center;}#sk-container-id-1 label.sk-toggleable__label-arrow:before {content: \"▸\";float: left;margin-right: 0.25em;color: #696969;}#sk-container-id-1 label.sk-toggleable__label-arrow:hover:before {color: black;}#sk-container-id-1 div.sk-estimator:hover label.sk-toggleable__label-arrow:before {color: black;}#sk-container-id-1 div.sk-toggleable__content {max-height: 0;max-width: 0;overflow: hidden;text-align: left;background-color: #f0f8ff;}#sk-container-id-1 div.sk-toggleable__content pre {margin: 0.2em;color: black;border-radius: 0.25em;background-color: #f0f8ff;}#sk-container-id-1 input.sk-toggleable__control:checked~div.sk-toggleable__content {max-height: 200px;max-width: 100%;overflow: auto;}#sk-container-id-1 input.sk-toggleable__control:checked~label.sk-toggleable__label-arrow:before {content: \"▾\";}#sk-container-id-1 div.sk-estimator input.sk-toggleable__control:checked~label.sk-toggleable__label {background-color: #d4ebff;}#sk-container-id-1 div.sk-label input.sk-toggleable__control:checked~label.sk-toggleable__label {background-color: #d4ebff;}#sk-container-id-1 input.sk-hidden--visually {border: 0;clip: rect(1px 1px 1px 1px);clip: rect(1px, 1px, 1px, 1px);height: 1px;margin: -1px;overflow: hidden;padding: 0;position: absolute;width: 1px;}#sk-container-id-1 div.sk-estimator {font-family: monospace;background-color: #f0f8ff;border: 1px dotted black;border-radius: 0.25em;box-sizing: border-box;margin-bottom: 0.5em;}#sk-container-id-1 div.sk-estimator:hover {background-color: #d4ebff;}#sk-container-id-1 div.sk-parallel-item::after {content: \"\";width: 100%;border-bottom: 1px solid gray;flex-grow: 1;}#sk-container-id-1 div.sk-label:hover label.sk-toggleable__label {background-color: #d4ebff;}#sk-container-id-1 div.sk-serial::before {content: \"\";position: absolute;border-left: 1px solid gray;box-sizing: border-box;top: 0;bottom: 0;left: 50%;z-index: 0;}#sk-container-id-1 div.sk-serial {display: flex;flex-direction: column;align-items: center;background-color: white;padding-right: 0.2em;padding-left: 0.2em;position: relative;}#sk-container-id-1 div.sk-item {position: relative;z-index: 1;}#sk-container-id-1 div.sk-parallel {display: flex;align-items: stretch;justify-content: center;background-color: white;position: relative;}#sk-container-id-1 div.sk-item::before, #sk-container-id-1 div.sk-parallel-item::before {content: \"\";position: absolute;border-left: 1px solid gray;box-sizing: border-box;top: 0;bottom: 0;left: 50%;z-index: -1;}#sk-container-id-1 div.sk-parallel-item {display: flex;flex-direction: column;z-index: 1;position: relative;background-color: white;}#sk-container-id-1 div.sk-parallel-item:first-child::after {align-self: flex-end;width: 50%;}#sk-container-id-1 div.sk-parallel-item:last-child::after {align-self: flex-start;width: 50%;}#sk-container-id-1 div.sk-parallel-item:only-child::after {width: 0;}#sk-container-id-1 div.sk-dashed-wrapped {border: 1px dashed gray;margin: 0 0.4em 0.5em 0.4em;box-sizing: border-box;padding-bottom: 0.4em;background-color: white;}#sk-container-id-1 div.sk-label label {font-family: monospace;font-weight: bold;display: inline-block;line-height: 1.2em;}#sk-container-id-1 div.sk-label-container {text-align: center;}#sk-container-id-1 div.sk-container {/* jupyter's `normalize.less` sets `[hidden] { display: none; }` but bootstrap.min.css set `[hidden] { display: none !important; }` so we also need the `!important` here to be able to override the default hidden behavior on the sphinx rendered scikit-learn.org. See: https://github.com/scikit-learn/scikit-learn/issues/21755 */display: inline-block !important;position: relative;}#sk-container-id-1 div.sk-text-repr-fallback {display: none;}</style><div id=\"sk-container-id-1\" class=\"sk-top-container\"><div class=\"sk-text-repr-fallback\"><pre>LinearRegression()</pre><b>In a Jupyter environment, please rerun this cell to show the HTML representation or trust the notebook. <br />On GitHub, the HTML representation is unable to render, please try loading this page with nbviewer.org.</b></div><div class=\"sk-container\" hidden><div class=\"sk-item\"><div class=\"sk-estimator sk-toggleable\"><input class=\"sk-toggleable__control sk-hidden--visually\" id=\"sk-estimator-id-1\" type=\"checkbox\" checked><label for=\"sk-estimator-id-1\" class=\"sk-toggleable__label sk-toggleable__label-arrow\">LinearRegression</label><div class=\"sk-toggleable__content\"><pre>LinearRegression()</pre></div></div></div></div></div>"
      ],
      "text/plain": [
       "LinearRegression()"
      ]
     },
     "execution_count": 35,
     "metadata": {},
     "output_type": "execute_result"
    }
   ],
   "source": [
    "lin_reg.fit(x_train,y_train)"
   ]
  },
  {
   "cell_type": "code",
   "execution_count": 36,
   "id": "ecd5a130",
   "metadata": {},
   "outputs": [],
   "source": [
    "y_pred_test=lin_reg.predict(x_test)"
   ]
  },
  {
   "cell_type": "code",
   "execution_count": 37,
   "id": "98cecbb3",
   "metadata": {},
   "outputs": [],
   "source": [
    "y_pred_train=lin_reg.predict(x_train)"
   ]
  },
  {
   "cell_type": "markdown",
   "id": "378b9b69",
   "metadata": {},
   "source": [
    "##### 7. Model Evaluation"
   ]
  },
  {
   "cell_type": "code",
   "execution_count": 38,
   "id": "a1d14eca",
   "metadata": {},
   "outputs": [
    {
     "data": {
      "text/plain": [
       "35     247.454545\n",
       "85     -35.413895\n",
       "47      63.693980\n",
       "24     -29.058038\n",
       "129    -23.796176\n",
       "95     -61.071181\n",
       "128    -15.484608\n",
       "10     -53.767781\n",
       "58      20.283033\n",
       "104    -94.943409\n",
       "69     -99.159651\n",
       "63      46.379815\n",
       "39     117.317906\n",
       "20     -75.197404\n",
       "38      62.355777\n",
       "151      3.977900\n",
       "101    -68.970309\n",
       "1      -41.541178\n",
       "67     -25.038565\n",
       "99    -102.036490\n",
       "19      59.311558\n",
       "97    -101.326203\n",
       "157    -89.209952\n",
       "102    -52.424715\n",
       "21      44.869629\n",
       "43      48.360978\n",
       "83     -39.821400\n",
       "56    -101.737354\n",
       "134   -131.613249\n",
       "147     58.126442\n",
       "87     -59.408664\n",
       "70    -117.032259\n",
       "Name: Weight, dtype: float64"
      ]
     },
     "execution_count": 38,
     "metadata": {},
     "output_type": "execute_result"
    }
   ],
   "source": [
    "residual_test=y_test-y_pred_test\n",
    "residual_test"
   ]
  },
  {
   "cell_type": "code",
   "execution_count": 39,
   "id": "20abbb81",
   "metadata": {},
   "outputs": [
    {
     "data": {
      "text/plain": [
       "124      7.816584\n",
       "49     -15.187733\n",
       "68     -89.958780\n",
       "2        0.982802\n",
       "59      67.589384\n",
       "          ...    \n",
       "113     34.802119\n",
       "64       9.008024\n",
       "15      34.813374\n",
       "125    113.810026\n",
       "9       -3.052077\n",
       "Name: Weight, Length: 127, dtype: float64"
      ]
     },
     "execution_count": 39,
     "metadata": {},
     "output_type": "execute_result"
    }
   ],
   "source": [
    "residual_train=y_train-y_pred_train\n",
    "residual_train"
   ]
  },
  {
   "cell_type": "code",
   "execution_count": 40,
   "id": "7fa7a091",
   "metadata": {},
   "outputs": [
    {
     "data": {
      "text/plain": [
       "6742.9691028228135"
      ]
     },
     "execution_count": 40,
     "metadata": {},
     "output_type": "execute_result"
    }
   ],
   "source": [
    "mse_test=mean_squared_error(y_test,y_pred_test)\n",
    "mse_test"
   ]
  },
  {
   "cell_type": "code",
   "execution_count": 41,
   "id": "e55ca2c6",
   "metadata": {},
   "outputs": [
    {
     "data": {
      "text/plain": [
       "82.11558380004865"
      ]
     },
     "execution_count": 41,
     "metadata": {},
     "output_type": "execute_result"
    }
   ],
   "source": [
    "rmse_test=np.sqrt(mse_test)\n",
    "rmse_test"
   ]
  },
  {
   "cell_type": "code",
   "execution_count": 42,
   "id": "9ea9b139",
   "metadata": {},
   "outputs": [
    {
     "data": {
      "text/plain": [
       "68.44325136703895"
      ]
     },
     "execution_count": 42,
     "metadata": {},
     "output_type": "execute_result"
    }
   ],
   "source": [
    "mae_test=mean_absolute_error(y_test,y_pred_test)\n",
    "mae_test"
   ]
  },
  {
   "cell_type": "code",
   "execution_count": 43,
   "id": "2498d69d",
   "metadata": {},
   "outputs": [
    {
     "data": {
      "text/plain": [
       "0.8241603153034741"
      ]
     },
     "execution_count": 43,
     "metadata": {},
     "output_type": "execute_result"
    }
   ],
   "source": [
    "r2_test=r2_score(y_test,y_pred_test)\n",
    "r2_test"
   ]
  },
  {
   "cell_type": "markdown",
   "id": "7654e18e",
   "metadata": {},
   "source": [
    "###### Training Data Evaluation"
   ]
  },
  {
   "cell_type": "code",
   "execution_count": 44,
   "id": "21df0f17",
   "metadata": {},
   "outputs": [
    {
     "data": {
      "text/plain": [
       "8782.012964848993"
      ]
     },
     "execution_count": 44,
     "metadata": {},
     "output_type": "execute_result"
    }
   ],
   "source": [
    "mse_train=mean_squared_error(y_train,y_pred_train)\n",
    "mse_train"
   ]
  },
  {
   "cell_type": "code",
   "execution_count": 45,
   "id": "66afcdc9",
   "metadata": {},
   "outputs": [
    {
     "data": {
      "text/plain": [
       "93.7123949371106"
      ]
     },
     "execution_count": 45,
     "metadata": {},
     "output_type": "execute_result"
    }
   ],
   "source": [
    "rmse_train=np.sqrt(mse_train)\n",
    "rmse_train"
   ]
  },
  {
   "cell_type": "code",
   "execution_count": 46,
   "id": "61058115",
   "metadata": {},
   "outputs": [
    {
     "data": {
      "text/plain": [
       "70.17322757273338"
      ]
     },
     "execution_count": 46,
     "metadata": {},
     "output_type": "execute_result"
    }
   ],
   "source": [
    "mae_train=mean_absolute_error(y_train,y_pred_train)\n",
    "mae_train"
   ]
  },
  {
   "cell_type": "code",
   "execution_count": 47,
   "id": "44bc471a",
   "metadata": {},
   "outputs": [
    {
     "data": {
      "text/plain": [
       "0.9386500419713846"
      ]
     },
     "execution_count": 47,
     "metadata": {},
     "output_type": "execute_result"
    }
   ],
   "source": [
    "r2_train=r2_score(y_train,y_pred_train)\n",
    "r2_train"
   ]
  },
  {
   "cell_type": "markdown",
   "id": "f2a18c1f",
   "metadata": {},
   "source": [
    "##### Normality of residual"
   ]
  },
  {
   "cell_type": "markdown",
   "id": "a3518c5b",
   "metadata": {},
   "source": [
    "##### kdeplot"
   ]
  },
  {
   "cell_type": "code",
   "execution_count": 49,
   "id": "6129bbc3",
   "metadata": {},
   "outputs": [
    {
     "data": {
      "text/plain": [
       "<Axes: xlabel='Weight', ylabel='Density'>"
      ]
     },
     "execution_count": 49,
     "metadata": {},
     "output_type": "execute_result"
    },
    {
     "data": {
      "image/png": "[encoded data removed]",
      "text/plain": [
       "<Figure size 640x480 with 1 Axes>"
      ]
     },
     "metadata": {},
     "output_type": "display_data"
    }
   ],
   "source": [
    "sns.kdeplot(residual_train,fill=True)"
   ]
  },
  {
   "cell_type": "markdown",
   "id": "f4eeed13",
   "metadata": {},
   "source": [
    "###### Histplot"
   ]
  },
  {
   "cell_type": "code",
   "execution_count": 50,
   "id": "4b37ec55",
   "metadata": {},
   "outputs": [
    {
     "data": {
      "text/plain": [
       "<Axes: xlabel='Weight', ylabel='Count'>"
      ]
     },
     "execution_count": 50,
     "metadata": {},
     "output_type": "execute_result"
    },
    {
     "data": {
      "image/png": "[encoded data removed]",
      "text/plain": [
       "<Figure size 640x480 with 1 Axes>"
      ]
     },
     "metadata": {},
     "output_type": "display_data"
    }
   ],
   "source": [
    "sns.histplot(residual_train)"
   ]
  },
  {
   "cell_type": "markdown",
   "id": "e8690d2b",
   "metadata": {},
   "source": [
    "###### displot"
   ]
  },
  {
   "cell_type": "code",
   "execution_count": 51,
   "id": "1599b41a",
   "metadata": {},
   "outputs": [
    {
     "data": {
      "text/plain": [
       "<seaborn.axisgrid.FacetGrid at 0x29679125ea0>"
      ]
     },
     "execution_count": 51,
     "metadata": {},
     "output_type": "execute_result"
    },
    {
     "data": {
      "image/png": "[encoded data removed]",
      "text/plain": [
       "<Figure size 500x500 with 1 Axes>"
      ]
     },
     "metadata": {},
     "output_type": "display_data"
    }
   ],
   "source": [
    "sns.displot(residual_train)"
   ]
  },
  {
   "cell_type": "markdown",
   "id": "82551c61",
   "metadata": {},
   "source": [
    "###### Q-Q plot"
   ]
  },
  {
   "cell_type": "code",
   "execution_count": 52,
   "id": "f2e46cde",
   "metadata": {},
   "outputs": [],
   "source": [
    "import statsmodels.api as sm"
   ]
  },
  {
   "cell_type": "code",
   "execution_count": 53,
   "id": "5c4e4e8a",
   "metadata": {},
   "outputs": [
    {
     "data": {
      "image/png": "[encoded data removed]",
      "text/plain": [
       "<Figure size 640x480 with 1 Axes>"
      ]
     },
     "execution_count": 53,
     "metadata": {},
     "output_type": "execute_result"
    },
    {
     "data": {
      "image/png": "[encoded data removed]",
      "text/plain": [
       "<Figure size 640x480 with 1 Axes>"
      ]
     },
     "metadata": {},
     "output_type": "display_data"
    }
   ],
   "source": [
    "sm.qqplot(residual_train,line='45',fit=True)"
   ]
  },
  {
   "cell_type": "markdown",
   "id": "1b009e2c",
   "metadata": {},
   "source": [
    "###### Hypothesis Testing"
   ]
  },
  {
   "cell_type": "markdown",
   "id": "772e3ba1",
   "metadata": {},
   "source": [
    "###### 1. Shapiro"
   ]
  },
  {
   "cell_type": "code",
   "execution_count": 54,
   "id": "4a73a33c",
   "metadata": {},
   "outputs": [],
   "source": [
    "from scipy.stats import shapiro"
   ]
  },
  {
   "cell_type": "code",
   "execution_count": 56,
   "id": "38b55ca6",
   "metadata": {},
   "outputs": [
    {
     "name": "stdout",
     "output_type": "stream",
     "text": [
      "0.9497861266136169\n",
      "0.00013224697613622993\n",
      "Residuals are normally distributed\n"
     ]
    }
   ],
   "source": [
    "stats,p_value=shapiro(residual_train)\n",
    "print(stats)\n",
    "print(p_value)\n",
    "if p_value<0.05:\n",
    "    print('Residuals are normally distributed')\n",
    "else:\n",
    "    print('Residuals are not normally distributed')"
   ]
  },
  {
   "cell_type": "markdown",
   "id": "7be55ddd",
   "metadata": {},
   "source": [
    "###### 2. kstets"
   ]
  },
  {
   "cell_type": "code",
   "execution_count": 57,
   "id": "27654149",
   "metadata": {},
   "outputs": [],
   "source": [
    "from scipy.stats import kstest"
   ]
  },
  {
   "cell_type": "code",
   "execution_count": 59,
   "id": "bcc168b3",
   "metadata": {},
   "outputs": [
    {
     "name": "stdout",
     "output_type": "stream",
     "text": [
      "0.5500447832901202\n",
      "1.302342984730437e-36\n",
      "Residuals are normally distributed\n"
     ]
    }
   ],
   "source": [
    "stats,p_value=kstest(residual_train,'norm')\n",
    "print(stats)\n",
    "print(p_value)\n",
    "if p_value<0.05:\n",
    "    print('Residuals are normally distributed')\n",
    "else:\n",
    "    print('Residuals are not normally distributed')"
   ]
  },
  {
   "cell_type": "markdown",
   "id": "18237151",
   "metadata": {},
   "source": [
    "###### 3. Normal Test"
   ]
  },
  {
   "cell_type": "code",
   "execution_count": 60,
   "id": "1ccaef26",
   "metadata": {},
   "outputs": [],
   "source": [
    "from scipy.stats import normaltest"
   ]
  },
  {
   "cell_type": "code",
   "execution_count": 61,
   "id": "d21cb2da",
   "metadata": {},
   "outputs": [
    {
     "name": "stdout",
     "output_type": "stream",
     "text": [
      "28.99947511062321\n",
      "5.044800433035845e-07\n",
      "Residuals are normally distributed\n"
     ]
    }
   ],
   "source": [
    "stats,p_value=normaltest(residual_train)\n",
    "print(stats)\n",
    "print(p_value)\n",
    "if p_value<0.05:\n",
    "    print('Residuals are normally distributed')\n",
    "else:\n",
    "    print('Residuals are not normally distributed')"
   ]
  },
  {
   "cell_type": "markdown",
   "id": "2fd1a694",
   "metadata": {},
   "source": [
    "###### Skewness"
   ]
  },
  {
   "cell_type": "code",
   "execution_count": 62,
   "id": "18fa51fa",
   "metadata": {},
   "outputs": [],
   "source": [
    "from scipy.stats import skew"
   ]
  },
  {
   "cell_type": "code",
   "execution_count": 63,
   "id": "fced08e7",
   "metadata": {},
   "outputs": [
    {
     "data": {
      "text/plain": [
       "0.9987584818257811"
      ]
     },
     "execution_count": 63,
     "metadata": {},
     "output_type": "execute_result"
    }
   ],
   "source": [
    "skew(residual_train) # skew between 0.5 to -0.5 >> symmetric        0.5 to 1.0 >> positive skew   -0.5 to -1 >> negetive skew"
   ]
  },
  {
   "cell_type": "markdown",
   "id": "6ad29f4d",
   "metadata": {},
   "source": [
    "###### Homoscedasticity"
   ]
  },
  {
   "cell_type": "code",
   "execution_count": 67,
   "id": "c8c7f1f6",
   "metadata": {},
   "outputs": [
    {
     "data": {
      "text/plain": [
       "Text(0, 0.5, 'Residual')"
      ]
     },
     "execution_count": 67,
     "metadata": {},
     "output_type": "execute_result"
    },
    {
     "data": {
      "image/png": "[encoded data removed]",
      "text/plain": [
       "<Figure size 700x500 with 1 Axes>"
      ]
     },
     "metadata": {},
     "output_type": "display_data"
    }
   ],
   "source": [
    "plt.figure(figsize=(7,5))\n",
    "sns.scatterplot(x=y_train,y=residual_train)\n",
    "plt.xlabel('Y actual')\n",
    "plt.ylabel('Residual')\n"
   ]
  },
  {
   "cell_type": "code",
   "execution_count": 68,
   "id": "d5a2bbc4",
   "metadata": {},
   "outputs": [],
   "source": [
    "Species='Bream'\n",
    "Length1=23.2\n",
    "Length2=25.4\n",
    "Length3=30\n",
    "Height=11.52\n",
    "Width=4.02\n"
   ]
  },
  {
   "cell_type": "code",
   "execution_count": 74,
   "id": "aa722307",
   "metadata": {},
   "outputs": [
    {
     "data": {
      "text/plain": [
       "['Length1',\n",
       " 'Length2',\n",
       " 'Length3',\n",
       " 'Height',\n",
       " 'Width',\n",
       " 'Species_Bream',\n",
       " 'Species_Parkki',\n",
       " 'Species_Perch',\n",
       " 'Species_Pike',\n",
       " 'Species_Roach',\n",
       " 'Species_Smelt',\n",
       " 'Species_Whitefish']"
      ]
     },
     "execution_count": 74,
     "metadata": {},
     "output_type": "execute_result"
    }
   ],
   "source": [
    "Column_list=x.columns.to_list()\n",
    "Column_list"
   ]
  },
  {
   "cell_type": "code",
   "execution_count": 75,
   "id": "ebbca5d4",
   "metadata": {},
   "outputs": [
    {
     "data": {
      "text/plain": [
       "5"
      ]
     },
     "execution_count": 75,
     "metadata": {},
     "output_type": "execute_result"
    }
   ],
   "source": [
    "Species_name='Species_'+Species\n",
    "Species_index=Column_list.index(Species_name)\n",
    "Species_index"
   ]
  },
  {
   "cell_type": "code",
   "execution_count": 76,
   "id": "375febdf",
   "metadata": {},
   "outputs": [
    {
     "data": {
      "text/plain": [
       "array([[0., 0., 0., 0., 0., 0., 0., 0., 0., 0., 0., 0.]])"
      ]
     },
     "execution_count": 76,
     "metadata": {},
     "output_type": "execute_result"
    }
   ],
   "source": [
    "test_array=np.zeros([1,x.shape[1]])\n",
    "test_array"
   ]
  },
  {
   "cell_type": "code",
   "execution_count": 77,
   "id": "fda7d18a",
   "metadata": {},
   "outputs": [],
   "source": [
    "test_array[0][0]=Length1\n",
    "test_array[0][1]=Length2\n",
    "test_array[0][2]=Length3\n",
    "test_array[0][3]=Height\n",
    "test_array[0][4]=Width\n",
    "test_array[0][Species_index]=1"
   ]
  },
  {
   "cell_type": "code",
   "execution_count": 78,
   "id": "e54c6473",
   "metadata": {},
   "outputs": [
    {
     "name": "stderr",
     "output_type": "stream",
     "text": [
      "C:\\Users\\Administrator\\AppData\\Local\\Programs\\Python\\Python310\\lib\\site-packages\\sklearn\\base.py:439: UserWarning: X does not have valid feature names, but LinearRegression was fitted with feature names\n",
      "  warnings.warn(\n"
     ]
    },
    {
     "data": {
      "text/plain": [
       "272.9502038302702"
      ]
     },
     "execution_count": 78,
     "metadata": {},
     "output_type": "execute_result"
    }
   ],
   "source": [
    "y_pred=lin_reg.predict(test_array)[0]\n",
    "y_pred"
   ]
  },
  {
   "cell_type": "code",
   "execution_count": 80,
   "id": "99a5066a",
   "metadata": {},
   "outputs": [],
   "source": [
    "import pickle\n",
    "import json"
   ]
  },
  {
   "cell_type": "code",
   "execution_count": 81,
   "id": "efa473e0",
   "metadata": {},
   "outputs": [],
   "source": [
    "with open('linear_regression_fish.pkl','wb') as f:\n",
    "    pickle.dump(lin_reg,f)"
   ]
  },
  {
   "cell_type": "code",
   "execution_count": 82,
   "id": "34e3e545",
   "metadata": {},
   "outputs": [],
   "source": [
    "json_data={'Column_list':Column_list}"
   ]
  },
  {
   "cell_type": "code",
   "execution_count": 83,
   "id": "55086318",
   "metadata": {},
   "outputs": [],
   "source": [
    "with open('json_data_fish.json','w') as f:\n",
    "    json.dump(json_data,f)"
   ]
  },
  {
   "cell_type": "code",
   "execution_count": null,
   "id": "8ba48ad4",
   "metadata": {},
   "outputs": [],
   "source": []
  }
 ],
 "metadata": {
  "kernelspec": {
   "display_name": "Python 3 (ipykernel)",
   "language": "python",
   "name": "python3"
  },
  "language_info": {
   "codemirror_mode": {
    "name": "ipython",
    "version": 3
   },
   "file_extension": ".py",
   "mimetype": "text/x-python",
   "name": "python",
   "nbconvert_exporter": "python",
   "pygments_lexer": "ipython3",
   "version": "3.10.10"
  }
 },
 "nbformat": 4,
 "nbformat_minor": 5
}
